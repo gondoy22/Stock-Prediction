{
 "cells": [
  {
   "cell_type": "markdown",
   "metadata": {},
   "source": [
    "The following work on data is performed on one specific company - NVDA. However rest of the work will be compatible for any list of companies. The transformations I'll perform on data will be aplicable and remain the same for every stock data avaiable."
   ]
  },
  {
   "cell_type": "code",
   "execution_count": 44,
   "metadata": {},
   "outputs": [
    {
     "data": {
      "text/plain": [
       "True"
      ]
     },
     "execution_count": 44,
     "metadata": {},
     "output_type": "execute_result"
    }
   ],
   "source": [
    "import pandas as pd\n",
    "import numpy as np\n",
    "import matplotlib.pyplot as plt\n",
    "import yfinance as yf\n",
    "import fredapi\n",
    "from sklearn.impute import KNNImputer\n",
    "from dotenv import load_dotenv\n",
    "import os\n",
    "\n",
    "load_dotenv()"
   ]
  },
  {
   "cell_type": "markdown",
   "metadata": {},
   "source": [
    "First let's start with fetching data from YahooFinance API. The data contains the Close, Open, High, Low and Volume of certain stock until recent day"
   ]
  },
  {
   "cell_type": "code",
   "execution_count": 16,
   "metadata": {},
   "outputs": [
    {
     "name": "stderr",
     "output_type": "stream",
     "text": [
      "[*********************100%***********************]  1 of 1 completed\n"
     ]
    }
   ],
   "source": [
    "df_company = yf.download('NVDA','2019-01-01')"
   ]
  },
  {
   "cell_type": "code",
   "execution_count": 17,
   "metadata": {},
   "outputs": [
    {
     "data": {
      "text/html": [
       "<div>\n",
       "<style scoped>\n",
       "    .dataframe tbody tr th:only-of-type {\n",
       "        vertical-align: middle;\n",
       "    }\n",
       "\n",
       "    .dataframe tbody tr th {\n",
       "        vertical-align: top;\n",
       "    }\n",
       "\n",
       "    .dataframe thead tr th {\n",
       "        text-align: left;\n",
       "    }\n",
       "\n",
       "    .dataframe thead tr:last-of-type th {\n",
       "        text-align: right;\n",
       "    }\n",
       "</style>\n",
       "<table border=\"1\" class=\"dataframe\">\n",
       "  <thead>\n",
       "    <tr>\n",
       "      <th>Price</th>\n",
       "      <th>Close</th>\n",
       "      <th>High</th>\n",
       "      <th>Low</th>\n",
       "      <th>Open</th>\n",
       "      <th>Volume</th>\n",
       "    </tr>\n",
       "    <tr>\n",
       "      <th>Ticker</th>\n",
       "      <th>NVDA</th>\n",
       "      <th>NVDA</th>\n",
       "      <th>NVDA</th>\n",
       "      <th>NVDA</th>\n",
       "      <th>NVDA</th>\n",
       "    </tr>\n",
       "    <tr>\n",
       "      <th>Date</th>\n",
       "      <th></th>\n",
       "      <th></th>\n",
       "      <th></th>\n",
       "      <th></th>\n",
       "      <th></th>\n",
       "    </tr>\n",
       "  </thead>\n",
       "  <tbody>\n",
       "    <tr>\n",
       "      <th>2019-01-02</th>\n",
       "      <td>3.377779</td>\n",
       "      <td>3.433819</td>\n",
       "      <td>3.224784</td>\n",
       "      <td>3.239414</td>\n",
       "      <td>508752000</td>\n",
       "    </tr>\n",
       "    <tr>\n",
       "      <th>2019-01-03</th>\n",
       "      <td>3.173704</td>\n",
       "      <td>3.351495</td>\n",
       "      <td>3.166265</td>\n",
       "      <td>3.317523</td>\n",
       "      <td>705552000</td>\n",
       "    </tr>\n",
       "    <tr>\n",
       "      <th>2019-01-04</th>\n",
       "      <td>3.377036</td>\n",
       "      <td>3.415222</td>\n",
       "      <td>3.216106</td>\n",
       "      <td>3.246854</td>\n",
       "      <td>585620000</td>\n",
       "    </tr>\n",
       "    <tr>\n",
       "      <th>2019-01-07</th>\n",
       "      <td>3.555819</td>\n",
       "      <td>3.592766</td>\n",
       "      <td>3.382987</td>\n",
       "      <td>3.434316</td>\n",
       "      <td>709160000</td>\n",
       "    </tr>\n",
       "    <tr>\n",
       "      <th>2019-01-08</th>\n",
       "      <td>3.467294</td>\n",
       "      <td>3.639630</td>\n",
       "      <td>3.394641</td>\n",
       "      <td>3.637398</td>\n",
       "      <td>786016000</td>\n",
       "    </tr>\n",
       "  </tbody>\n",
       "</table>\n",
       "</div>"
      ],
      "text/plain": [
       "Price          Close      High       Low      Open     Volume\n",
       "Ticker          NVDA      NVDA      NVDA      NVDA       NVDA\n",
       "Date                                                         \n",
       "2019-01-02  3.377779  3.433819  3.224784  3.239414  508752000\n",
       "2019-01-03  3.173704  3.351495  3.166265  3.317523  705552000\n",
       "2019-01-04  3.377036  3.415222  3.216106  3.246854  585620000\n",
       "2019-01-07  3.555819  3.592766  3.382987  3.434316  709160000\n",
       "2019-01-08  3.467294  3.639630  3.394641  3.637398  786016000"
      ]
     },
     "execution_count": 17,
     "metadata": {},
     "output_type": "execute_result"
    }
   ],
   "source": [
    "df_company.head()"
   ]
  },
  {
   "cell_type": "markdown",
   "metadata": {},
   "source": [
    "First thing we see is that the data from yahoo api has unusual way of indexing data, so first we are going to fix that"
   ]
  },
  {
   "cell_type": "code",
   "execution_count": null,
   "metadata": {},
   "outputs": [
    {
     "data": {
      "text/html": [
       "<div>\n",
       "<style scoped>\n",
       "    .dataframe tbody tr th:only-of-type {\n",
       "        vertical-align: middle;\n",
       "    }\n",
       "\n",
       "    .dataframe tbody tr th {\n",
       "        vertical-align: top;\n",
       "    }\n",
       "\n",
       "    .dataframe thead th {\n",
       "        text-align: right;\n",
       "    }\n",
       "</style>\n",
       "<table border=\"1\" class=\"dataframe\">\n",
       "  <thead>\n",
       "    <tr style=\"text-align: right;\">\n",
       "      <th>Price</th>\n",
       "      <th>Date</th>\n",
       "      <th>Close</th>\n",
       "      <th>High</th>\n",
       "      <th>Low</th>\n",
       "      <th>Open</th>\n",
       "      <th>Volume</th>\n",
       "    </tr>\n",
       "  </thead>\n",
       "  <tbody>\n",
       "    <tr>\n",
       "      <th>0</th>\n",
       "      <td>2019-01-02</td>\n",
       "      <td>3.377779</td>\n",
       "      <td>3.433819</td>\n",
       "      <td>3.224784</td>\n",
       "      <td>3.239414</td>\n",
       "      <td>508752000</td>\n",
       "    </tr>\n",
       "    <tr>\n",
       "      <th>1</th>\n",
       "      <td>2019-01-03</td>\n",
       "      <td>3.173704</td>\n",
       "      <td>3.351495</td>\n",
       "      <td>3.166265</td>\n",
       "      <td>3.317523</td>\n",
       "      <td>705552000</td>\n",
       "    </tr>\n",
       "    <tr>\n",
       "      <th>2</th>\n",
       "      <td>2019-01-04</td>\n",
       "      <td>3.377036</td>\n",
       "      <td>3.415222</td>\n",
       "      <td>3.216106</td>\n",
       "      <td>3.246854</td>\n",
       "      <td>585620000</td>\n",
       "    </tr>\n",
       "    <tr>\n",
       "      <th>3</th>\n",
       "      <td>2019-01-07</td>\n",
       "      <td>3.555819</td>\n",
       "      <td>3.592766</td>\n",
       "      <td>3.382987</td>\n",
       "      <td>3.434316</td>\n",
       "      <td>709160000</td>\n",
       "    </tr>\n",
       "    <tr>\n",
       "      <th>4</th>\n",
       "      <td>2019-01-08</td>\n",
       "      <td>3.467294</td>\n",
       "      <td>3.639630</td>\n",
       "      <td>3.394641</td>\n",
       "      <td>3.637398</td>\n",
       "      <td>786016000</td>\n",
       "    </tr>\n",
       "  </tbody>\n",
       "</table>\n",
       "</div>"
      ],
      "text/plain": [
       "Price       Date     Close      High       Low      Open     Volume\n",
       "0     2019-01-02  3.377779  3.433819  3.224784  3.239414  508752000\n",
       "1     2019-01-03  3.173704  3.351495  3.166265  3.317523  705552000\n",
       "2     2019-01-04  3.377036  3.415222  3.216106  3.246854  585620000\n",
       "3     2019-01-07  3.555819  3.592766  3.382987  3.434316  709160000\n",
       "4     2019-01-08  3.467294  3.639630  3.394641  3.637398  786016000"
      ]
     },
     "execution_count": 18,
     "metadata": {},
     "output_type": "execute_result"
    }
   ],
   "source": [
    "df_company = df_company.reset_index().rename(columns={\"index\": \"Date\"})\n",
    "df_company_temp = df_company.copy()\n",
    "df_company_temp.columns = df_company.columns.droplevel(1)\n",
    "df_company = df_company_temp"
   ]
  },
  {
   "cell_type": "code",
   "execution_count": 19,
   "metadata": {},
   "outputs": [
    {
     "name": "stdout",
     "output_type": "stream",
     "text": [
      "<class 'pandas.core.frame.DataFrame'>\n",
      "RangeIndex: 1558 entries, 0 to 1557\n",
      "Data columns (total 6 columns):\n",
      " #   Column  Non-Null Count  Dtype         \n",
      "---  ------  --------------  -----         \n",
      " 0   Date    1558 non-null   datetime64[ns]\n",
      " 1   Close   1558 non-null   float64       \n",
      " 2   High    1558 non-null   float64       \n",
      " 3   Low     1558 non-null   float64       \n",
      " 4   Open    1558 non-null   float64       \n",
      " 5   Volume  1558 non-null   int64         \n",
      "dtypes: datetime64[ns](1), float64(4), int64(1)\n",
      "memory usage: 73.2 KB\n"
     ]
    }
   ],
   "source": [
    "df_company.info()"
   ]
  },
  {
   "cell_type": "code",
   "execution_count": 20,
   "metadata": {},
   "outputs": [
    {
     "data": {
      "text/plain": [
       "0   2019-01-02\n",
       "1   2019-01-03\n",
       "2   2019-01-04\n",
       "3   2019-01-07\n",
       "4   2019-01-08\n",
       "5   2019-01-09\n",
       "6   2019-01-10\n",
       "7   2019-01-11\n",
       "8   2019-01-14\n",
       "9   2019-01-15\n",
       "Name: Date, dtype: datetime64[ns]"
      ]
     },
     "execution_count": 20,
     "metadata": {},
     "output_type": "execute_result"
    }
   ],
   "source": [
    "df_company['Date'].head(10)"
   ]
  },
  {
   "cell_type": "markdown",
   "metadata": {},
   "source": [
    "From the lines above we can see that there are no NULL's in the yahoo finance datasets and also the values exists only for days when stock market works."
   ]
  },
  {
   "cell_type": "markdown",
   "metadata": {},
   "source": [
    "Now let's gather more data that we will use for modelling stock prices. We are going to use macroeconomic indexes from Federak Reserve Economic Data API."
   ]
  },
  {
   "cell_type": "code",
   "execution_count": 45,
   "metadata": {},
   "outputs": [],
   "source": [
    "API_KEY = os.getenv('API_KEY')\n",
    "fred = fredapi.Fred(api_key=API_KEY)\n",
    "\n",
    "\n",
    "gdp_data = fred.get_series(\"GDP\")\n",
    "cpi_data = fred.get_series(\"CPIAUCSL\")\n",
    "unemployment_data = fred.get_series(\"UNRATE\")\n",
    "fed_funds_data = fred.get_series(\"FEDFUNDS\")\n",
    "sp500_data = fred.get_series(\"SP500\")\n",
    "vix_data = fred.get_series(\"VIXCLS\")\n",
    "\n",
    "df_economic = pd.DataFrame({\n",
    "    \"SP500\": sp500_data,\n",
    "    \"VIX\": vix_data,\n",
    "    \"GDP\": gdp_data,\n",
    "    \"CPI\": cpi_data,\n",
    "    \"UR\": unemployment_data,\n",
    "    \"FF\": fed_funds_data})\n",
    "    "
   ]
  },
  {
   "cell_type": "markdown",
   "metadata": {},
   "source": [
    "First thing we notice that is has all the data from the 1946's up to todays date. However there are a lot of NaN's. My guess would be that they fill a certain value at the day they make the calculations."
   ]
  },
  {
   "cell_type": "code",
   "execution_count": 28,
   "metadata": {},
   "outputs": [
    {
     "data": {
      "text/html": [
       "<div>\n",
       "<style scoped>\n",
       "    .dataframe tbody tr th:only-of-type {\n",
       "        vertical-align: middle;\n",
       "    }\n",
       "\n",
       "    .dataframe tbody tr th {\n",
       "        vertical-align: top;\n",
       "    }\n",
       "\n",
       "    .dataframe thead th {\n",
       "        text-align: right;\n",
       "    }\n",
       "</style>\n",
       "<table border=\"1\" class=\"dataframe\">\n",
       "  <thead>\n",
       "    <tr style=\"text-align: right;\">\n",
       "      <th></th>\n",
       "      <th>SP500</th>\n",
       "      <th>VIX</th>\n",
       "      <th>GDP</th>\n",
       "      <th>CPI</th>\n",
       "      <th>UR</th>\n",
       "      <th>FF</th>\n",
       "    </tr>\n",
       "  </thead>\n",
       "  <tbody>\n",
       "    <tr>\n",
       "      <th>1946-01-01</th>\n",
       "      <td>NaN</td>\n",
       "      <td>NaN</td>\n",
       "      <td>NaN</td>\n",
       "      <td>NaN</td>\n",
       "      <td>NaN</td>\n",
       "      <td>NaN</td>\n",
       "    </tr>\n",
       "    <tr>\n",
       "      <th>1946-04-01</th>\n",
       "      <td>NaN</td>\n",
       "      <td>NaN</td>\n",
       "      <td>NaN</td>\n",
       "      <td>NaN</td>\n",
       "      <td>NaN</td>\n",
       "      <td>NaN</td>\n",
       "    </tr>\n",
       "    <tr>\n",
       "      <th>1946-07-01</th>\n",
       "      <td>NaN</td>\n",
       "      <td>NaN</td>\n",
       "      <td>NaN</td>\n",
       "      <td>NaN</td>\n",
       "      <td>NaN</td>\n",
       "      <td>NaN</td>\n",
       "    </tr>\n",
       "    <tr>\n",
       "      <th>1946-10-01</th>\n",
       "      <td>NaN</td>\n",
       "      <td>NaN</td>\n",
       "      <td>NaN</td>\n",
       "      <td>NaN</td>\n",
       "      <td>NaN</td>\n",
       "      <td>NaN</td>\n",
       "    </tr>\n",
       "    <tr>\n",
       "      <th>1947-01-01</th>\n",
       "      <td>NaN</td>\n",
       "      <td>NaN</td>\n",
       "      <td>243.164</td>\n",
       "      <td>21.48</td>\n",
       "      <td>NaN</td>\n",
       "      <td>NaN</td>\n",
       "    </tr>\n",
       "  </tbody>\n",
       "</table>\n",
       "</div>"
      ],
      "text/plain": [
       "            SP500  VIX      GDP    CPI  UR  FF\n",
       "1946-01-01    NaN  NaN      NaN    NaN NaN NaN\n",
       "1946-04-01    NaN  NaN      NaN    NaN NaN NaN\n",
       "1946-07-01    NaN  NaN      NaN    NaN NaN NaN\n",
       "1946-10-01    NaN  NaN      NaN    NaN NaN NaN\n",
       "1947-01-01    NaN  NaN  243.164  21.48 NaN NaN"
      ]
     },
     "execution_count": 28,
     "metadata": {},
     "output_type": "execute_result"
    }
   ],
   "source": [
    "df_economic.head()"
   ]
  },
  {
   "cell_type": "code",
   "execution_count": 29,
   "metadata": {},
   "outputs": [
    {
     "data": {
      "text/html": [
       "<div>\n",
       "<style scoped>\n",
       "    .dataframe tbody tr th:only-of-type {\n",
       "        vertical-align: middle;\n",
       "    }\n",
       "\n",
       "    .dataframe tbody tr th {\n",
       "        vertical-align: top;\n",
       "    }\n",
       "\n",
       "    .dataframe thead th {\n",
       "        text-align: right;\n",
       "    }\n",
       "</style>\n",
       "<table border=\"1\" class=\"dataframe\">\n",
       "  <thead>\n",
       "    <tr style=\"text-align: right;\">\n",
       "      <th></th>\n",
       "      <th>SP500</th>\n",
       "      <th>VIX</th>\n",
       "      <th>GDP</th>\n",
       "      <th>CPI</th>\n",
       "      <th>UR</th>\n",
       "      <th>FF</th>\n",
       "    </tr>\n",
       "  </thead>\n",
       "  <tbody>\n",
       "    <tr>\n",
       "      <th>2025-03-07</th>\n",
       "      <td>5770.20</td>\n",
       "      <td>23.37</td>\n",
       "      <td>NaN</td>\n",
       "      <td>NaN</td>\n",
       "      <td>NaN</td>\n",
       "      <td>NaN</td>\n",
       "    </tr>\n",
       "    <tr>\n",
       "      <th>2025-03-10</th>\n",
       "      <td>5614.56</td>\n",
       "      <td>27.86</td>\n",
       "      <td>NaN</td>\n",
       "      <td>NaN</td>\n",
       "      <td>NaN</td>\n",
       "      <td>NaN</td>\n",
       "    </tr>\n",
       "    <tr>\n",
       "      <th>2025-03-11</th>\n",
       "      <td>5572.07</td>\n",
       "      <td>26.92</td>\n",
       "      <td>NaN</td>\n",
       "      <td>NaN</td>\n",
       "      <td>NaN</td>\n",
       "      <td>NaN</td>\n",
       "    </tr>\n",
       "    <tr>\n",
       "      <th>2025-03-12</th>\n",
       "      <td>5599.30</td>\n",
       "      <td>24.23</td>\n",
       "      <td>NaN</td>\n",
       "      <td>NaN</td>\n",
       "      <td>NaN</td>\n",
       "      <td>NaN</td>\n",
       "    </tr>\n",
       "    <tr>\n",
       "      <th>2025-03-13</th>\n",
       "      <td>5521.52</td>\n",
       "      <td>NaN</td>\n",
       "      <td>NaN</td>\n",
       "      <td>NaN</td>\n",
       "      <td>NaN</td>\n",
       "      <td>NaN</td>\n",
       "    </tr>\n",
       "  </tbody>\n",
       "</table>\n",
       "</div>"
      ],
      "text/plain": [
       "              SP500    VIX  GDP  CPI  UR  FF\n",
       "2025-03-07  5770.20  23.37  NaN  NaN NaN NaN\n",
       "2025-03-10  5614.56  27.86  NaN  NaN NaN NaN\n",
       "2025-03-11  5572.07  26.92  NaN  NaN NaN NaN\n",
       "2025-03-12  5599.30  24.23  NaN  NaN NaN NaN\n",
       "2025-03-13  5521.52    NaN  NaN  NaN NaN NaN"
      ]
     },
     "execution_count": 29,
     "metadata": {},
     "output_type": "execute_result"
    }
   ],
   "source": [
    "df_economic.tail()"
   ]
  },
  {
   "cell_type": "code",
   "execution_count": 31,
   "metadata": {},
   "outputs": [
    {
     "name": "stdout",
     "output_type": "stream",
     "text": [
      "<class 'pandas.core.frame.DataFrame'>\n",
      "DatetimeIndex: 9824 entries, 1946-01-01 to 2025-03-13\n",
      "Data columns (total 6 columns):\n",
      " #   Column  Non-Null Count  Dtype  \n",
      "---  ------  --------------  -----  \n",
      " 0   SP500   2515 non-null   float64\n",
      " 1   VIX     8884 non-null   float64\n",
      " 2   GDP     312 non-null    float64\n",
      " 3   CPI     938 non-null    float64\n",
      " 4   UR      926 non-null    float64\n",
      " 5   FF      848 non-null    float64\n",
      "dtypes: float64(6)\n",
      "memory usage: 537.2 KB\n"
     ]
    }
   ],
   "source": [
    "df_economic.info()"
   ]
  },
  {
   "cell_type": "markdown",
   "metadata": {},
   "source": [
    "So first thing we do is cleaning the indexes and also filtering the data from 2019-01-01, which will be avaible to select in the function."
   ]
  },
  {
   "cell_type": "code",
   "execution_count": 32,
   "metadata": {},
   "outputs": [],
   "source": [
    "df_economic = df_economic.reset_index().rename(columns={\"index\": \"Date\"})\n",
    "df_economic = df_economic[df_economic['Date'] > '2019-01-01']"
   ]
  },
  {
   "cell_type": "code",
   "execution_count": 33,
   "metadata": {},
   "outputs": [
    {
     "name": "stdout",
     "output_type": "stream",
     "text": [
      "<class 'pandas.core.frame.DataFrame'>\n",
      "Index: 1637 entries, 8187 to 9823\n",
      "Data columns (total 7 columns):\n",
      " #   Column  Non-Null Count  Dtype         \n",
      "---  ------  --------------  -----         \n",
      " 0   Date    1637 non-null   datetime64[ns]\n",
      " 1   SP500   1558 non-null   float64       \n",
      " 2   VIX     1579 non-null   float64       \n",
      " 3   GDP     23 non-null     float64       \n",
      " 4   CPI     73 non-null     float64       \n",
      " 5   UR      73 non-null     float64       \n",
      " 6   FF      73 non-null     float64       \n",
      "dtypes: datetime64[ns](1), float64(6)\n",
      "memory usage: 102.3 KB\n"
     ]
    }
   ],
   "source": [
    "df_economic.info()"
   ]
  },
  {
   "cell_type": "markdown",
   "metadata": {},
   "source": [
    "We notice that there are more dates in df_economic set than on the set obtained from yahoo finances so we merge the data sets with respect for keeping all the dates from df_company. Later using the KNNImputer we impute missing data in macroeconomical indexes."
   ]
  },
  {
   "cell_type": "code",
   "execution_count": 37,
   "metadata": {},
   "outputs": [],
   "source": [
    "df_merged = df_merged = pd.merge(df_company, df_economic, on='Date', how='left')\n",
    "numeric_data = df_merged.drop(columns=['Date']) \n",
    "imputer = KNNImputer(n_neighbors=2)\n",
    "df_merged_imputed = pd.DataFrame(imputer.fit_transform(numeric_data), columns=numeric_data.columns)"
   ]
  }
 ],
 "metadata": {
  "kernelspec": {
   "display_name": "base",
   "language": "python",
   "name": "python3"
  },
  "language_info": {
   "codemirror_mode": {
    "name": "ipython",
    "version": 3
   },
   "file_extension": ".py",
   "mimetype": "text/x-python",
   "name": "python",
   "nbconvert_exporter": "python",
   "pygments_lexer": "ipython3",
   "version": "3.12.4"
  }
 },
 "nbformat": 4,
 "nbformat_minor": 2
}
